{
 "cells": [
  {
   "cell_type": "markdown",
   "metadata": {},
   "source": [
    "# Transfer learning using vgg16 vgg19 resnet50\n",
    "\n",
    "- Transfer learning\n",
    "- Uses Pretrained model such as VGG16, VGG19, ResNet50, InceptionV3, Xception\n",
    "- We use the pretrained model and alter it to fit our needs"
   ]
  },
  {
   "cell_type": "code",
   "execution_count": 13,
   "metadata": {},
   "outputs": [],
   "source": [
    "import numpy as np\n",
    "from tensorflow import keras\n",
    "from tensorflow.keras import layers\n",
    "from tensorflow.keras.applications import VGG19, VGG16, ResNet50\n",
    "from tensorflow.keras.datasets import cifar10\n",
    "from tensorflow.keras.utils import to_categorical"
   ]
  },
  {
   "cell_type": "code",
   "execution_count": 11,
   "metadata": {},
   "outputs": [],
   "source": [
    "# Define the pre-trained models\n",
    "vgg16_model = VGG16(weights=\"imagenet\", include_top=False, input_shape=(32, 32, 3))\n",
    "vgg19_model = VGG19(weights=\"imagenet\", include_top=False, input_shape=(32, 32, 3))\n",
    "resnet50_model = ResNet50(\n",
    "    weights=\"imagenet\", include_top=False, input_shape=(32, 32, 3)\n",
    ")"
   ]
  },
  {
   "cell_type": "markdown",
   "metadata": {},
   "source": [
    "- We will use the CIFAR-10 dataset for this example. \n",
    "- 60,000 color images with a resolution of 32x32 pixels, \n",
    "- 10 classes with 6000 images per class"
   ]
  },
  {
   "cell_type": "code",
   "execution_count": 14,
   "metadata": {},
   "outputs": [
    {
     "name": "stdout",
     "output_type": "stream",
     "text": [
      "Downloading data from https://www.cs.toronto.edu/~kriz/cifar-10-python.tar.gz\n",
      "170498071/170498071 [==============================] - 185s 1us/step\n"
     ]
    }
   ],
   "source": [
    "# Load the CIFAR-10 dataset\n",
    "(x_train, y_train), (x_test, y_test) = cifar10.load_data()\n",
    "\n",
    "# Preprocess the data\n",
    "x_train = x_train.astype(\"float32\") / 255.0\n",
    "x_test = x_test.astype(\"float32\") / 255.0\n",
    "\n",
    "# categorial encoding\n",
    "y_train = to_categorical(y_train, 10)\n",
    "y_test = to_categorical(y_test, 10)"
   ]
  },
  {
   "cell_type": "markdown",
   "metadata": {},
   "source": [
    "- include_top = False to remove the last layer of the model because we will be adding our own output layer\n",
    "- we also specify the input shape to match that of the CIFAR-10 dataset"
   ]
  },
  {
   "cell_type": "code",
   "execution_count": 15,
   "metadata": {},
   "outputs": [],
   "source": [
    "# Define the pre-trained models\n",
    "vgg16_model = VGG16(weights=\"imagenet\", include_top=False, input_shape=(32, 32, 3))\n",
    "vgg19_model = VGG19(weights=\"imagenet\", include_top=False, input_shape=(32, 32, 3))\n",
    "resnet50_model = ResNet50(\n",
    "    weights=\"imagenet\", include_top=False, input_shape=(32, 32, 3)\n",
    ")"
   ]
  },
  {
   "cell_type": "markdown",
   "metadata": {},
   "source": [
    "Define the output layers\n",
    "\n",
    "- we will add a global average pooling layer to reduce the spatial dimensions of the output feature map\n",
    "- a dense output layer with 10 units\n",
    "- softmax activation function"
   ]
  },
  {
   "cell_type": "code",
   "execution_count": 17,
   "metadata": {},
   "outputs": [],
   "source": [
    "vgg16_output = layers.GlobalAveragePooling2D()(vgg16_model.output)\n",
    "vgg16_output = layers.Dense(10, activation=\"softmax\")(vgg16_output)\n",
    "\n",
    "vgg19_output = layers.GlobalAveragePooling2D()(vgg19_model.output)\n",
    "vgg19_output = layers.Dense(10, activation=\"softmax\")(vgg19_output)\n",
    "\n",
    "resnet50_output = layers.GlobalAveragePooling2D()(resnet50_model.output)\n",
    "resnet50_output = layers.Dense(10, activation=\"softmax\")(resnet50_output)"
   ]
  },
  {
   "cell_type": "code",
   "execution_count": 18,
   "metadata": {},
   "outputs": [],
   "source": [
    "# Define the complete models\n",
    "vgg16 = keras.Model(inputs=vgg16_model.input, outputs=vgg16_output)\n",
    "vgg19 = keras.Model(inputs=vgg19_model.input, outputs=vgg19_output)\n",
    "resnet50 = keras.Model(inputs=resnet50_model.input, outputs=resnet50_output)"
   ]
  },
  {
   "cell_type": "code",
   "execution_count": 19,
   "metadata": {},
   "outputs": [],
   "source": [
    "# Compile the models\n",
    "vgg16.compile(loss=\"categorical_crossentropy\", optimizer=\"adam\", metrics=[\"accuracy\"])\n",
    "vgg19.compile(loss=\"categorical_crossentropy\", optimizer=\"adam\", metrics=[\"accuracy\"])\n",
    "resnet50.compile(\n",
    "    loss=\"categorical_crossentropy\", optimizer=\"adam\", metrics=[\"accuracy\"]\n",
    ")"
   ]
  },
  {
   "cell_type": "code",
   "execution_count": 20,
   "metadata": {},
   "outputs": [],
   "source": [
    "# Evaluate the models\n",
    "vgg16_loss, vgg16_accuracy = vgg16.evaluate(x_test, y_test, verbose=0)\n",
    "vgg19_loss, vgg19_accuracy = vgg19.evaluate(x_test, y_test, verbose=0)\n",
    "resnet50_loss, resnet50_accuracy = resnet50.evaluate(x_test, y_test, verbose=0)"
   ]
  },
  {
   "cell_type": "code",
   "execution_count": 22,
   "metadata": {},
   "outputs": [
    {
     "name": "stdout",
     "output_type": "stream",
     "text": [
      "VGG16 accuracy:  0.06620000302791595\n",
      "VGG19 accuracy:  0.09189999848604202\n",
      "ResNet50 accuracy:  0.10029999911785126\n"
     ]
    }
   ],
   "source": [
    "# Print the accuracy\n",
    "print(\"VGG16 accuracy: \", vgg16_accuracy)\n",
    "print(\"VGG19 accuracy: \", vgg19_accuracy)\n",
    "print(\"ResNet50 accuracy: \", resnet50_accuracy)"
   ]
  }
 ],
 "metadata": {
  "kernelspec": {
   "display_name": "AI053",
   "language": "python",
   "name": "python3"
  },
  "language_info": {
   "codemirror_mode": {
    "name": "ipython",
    "version": 3
   },
   "file_extension": ".py",
   "mimetype": "text/x-python",
   "name": "python",
   "nbconvert_exporter": "python",
   "pygments_lexer": "ipython3",
   "version": "3.9.17"
  }
 },
 "nbformat": 4,
 "nbformat_minor": 2
}
