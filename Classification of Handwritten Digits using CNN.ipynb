{
 "cells": [
  {
   "cell_type": "markdown",
   "metadata": {},
   "source": [
    "# Classification of Handwritten digits using CNN"
   ]
  },
  {
   "cell_type": "code",
   "execution_count": 1,
   "metadata": {},
   "outputs": [],
   "source": [
    "from sklearn.datasets import load_digits\n",
    "from keras.models import Sequential\n",
    "from keras.utils import to_categorical\n",
    "from keras.layers import Conv2D, MaxPooling2D, Dense, Flatten, Dropout\n",
    "from keras.callbacks import EarlyStopping, ModelCheckpoint\n",
    "import numpy as np\n",
    "import matplotlib.pyplot as plt"
   ]
  },
  {
   "cell_type": "code",
   "execution_count": 2,
   "metadata": {},
   "outputs": [],
   "source": [
    "# load dataset\n",
    "data = load_digits()\n",
    "X = data.images\n",
    "y = data.target"
   ]
  },
  {
   "cell_type": "code",
   "execution_count": 3,
   "metadata": {},
   "outputs": [
    {
     "data": {
      "text/plain": [
       "array([[1., 0., 0., ..., 0., 0., 0.],\n",
       "       [0., 1., 0., ..., 0., 0., 0.],\n",
       "       [0., 0., 1., ..., 0., 0., 0.],\n",
       "       ...,\n",
       "       [0., 0., 0., ..., 0., 1., 0.],\n",
       "       [0., 0., 0., ..., 0., 0., 1.],\n",
       "       [0., 0., 0., ..., 0., 1., 0.]], dtype=float32)"
      ]
     },
     "execution_count": 3,
     "metadata": {},
     "output_type": "execute_result"
    }
   ],
   "source": [
    "# Preprocess the data\n",
    "# important step\n",
    "\n",
    "X = X.reshape((X.shape[0], 8, 8, 1))\n",
    "\n",
    "# X.shape[0] = is for number of samples\n",
    "# 8,8 is for the size of the image\n",
    "# 1 is for grayscale, 3 for RGB images\n",
    "\n",
    "X = X.astype(\"float32\") / 255\n",
    "# convert the data type to float32 and normalize the data values to the range 0-1\n",
    "\n",
    "y = to_categorical(y)\n",
    "y"
   ]
  },
  {
   "cell_type": "code",
   "execution_count": 4,
   "metadata": {},
   "outputs": [],
   "source": [
    "# Split the data into train and test\n",
    "from sklearn.model_selection import train_test_split\n",
    "\n",
    "X_train, X_test, y_train, y_test = train_test_split(X, y, test_size=0.2, random_state=1)"
   ]
  },
  {
   "cell_type": "code",
   "execution_count": 5,
   "metadata": {},
   "outputs": [],
   "source": [
    "# Create the model\n",
    "model = Sequential()\n",
    "\n",
    "# For CNN\n",
    "# We are using 32 filters of size 3x3 each and\n",
    "# our input image is 8x8 with a single channel\n",
    "model.add(Conv2D(32, (3, 3), activation=\"relu\", input_shape=(8, 8, 1)))\n",
    "model.add(MaxPooling2D(pool_size=(2, 2)))\n",
    "model.add(Flatten())\n",
    "\n",
    "model.add(Dense(100, activation=\"relu\"))\n",
    "model.add(Dense(10, activation=\"softmax\"))"
   ]
  },
  {
   "cell_type": "code",
   "execution_count": 6,
   "metadata": {},
   "outputs": [],
   "source": [
    "# Define early stopping callback and model checkpoint callback (optional)\n",
    "early_stopping = EarlyStopping(monitor=\"val_loss\", patience=5)\n",
    "model_checkpoint = ModelCheckpoint(\n",
    "    \"best_model.h5\", monitor=\"val_loss\", save_best_only=True, mode=\"min\"\n",
    ")"
   ]
  },
  {
   "cell_type": "code",
   "execution_count": 7,
   "metadata": {},
   "outputs": [],
   "source": [
    "# Compile the model\n",
    "# loss = categorical_crossentropy not sparse_categorical_crossentropy\n",
    "model.compile(optimizer=\"adam\", loss=\"categorical_crossentropy\", metrics=[\"accuracy\"])"
   ]
  },
  {
   "cell_type": "code",
   "execution_count": 8,
   "metadata": {},
   "outputs": [
    {
     "name": "stdout",
     "output_type": "stream",
     "text": [
      "Epoch 1/50\n",
      "45/45 [==============================] - 0s 4ms/step - loss: 2.2842 - accuracy: 0.2575 - val_loss: 2.2536 - val_accuracy: 0.3278\n",
      "Epoch 2/50\n",
      "45/45 [==============================] - 0s 2ms/step - loss: 2.2008 - accuracy: 0.4454 - val_loss: 2.1144 - val_accuracy: 0.5667\n",
      "Epoch 3/50\n",
      "45/45 [==============================] - 0s 2ms/step - loss: 1.9770 - accuracy: 0.6722 - val_loss: 1.7866 - val_accuracy: 0.6611\n"
     ]
    },
    {
     "name": "stderr",
     "output_type": "stream",
     "text": [
      "C:\\Users\\Student\\AppData\\Roaming\\Python\\Python39\\site-packages\\keras\\src\\engine\\training.py:3000: UserWarning: You are saving your model as an HDF5 file via `model.save()`. This file format is considered legacy. We recommend using instead the native Keras format, e.g. `model.save('my_model.keras')`.\n",
      "  saving_api.save_model(\n"
     ]
    },
    {
     "name": "stdout",
     "output_type": "stream",
     "text": [
      "Epoch 4/50\n",
      "45/45 [==============================] - 0s 2ms/step - loss: 1.5862 - accuracy: 0.7697 - val_loss: 1.3310 - val_accuracy: 0.7944\n",
      "Epoch 5/50\n",
      "45/45 [==============================] - 0s 2ms/step - loss: 1.1639 - accuracy: 0.8267 - val_loss: 0.9886 - val_accuracy: 0.8028\n",
      "Epoch 6/50\n",
      "45/45 [==============================] - 0s 2ms/step - loss: 0.8692 - accuracy: 0.8372 - val_loss: 0.7503 - val_accuracy: 0.8500\n",
      "Epoch 7/50\n",
      "45/45 [==============================] - 0s 2ms/step - loss: 0.6865 - accuracy: 0.8615 - val_loss: 0.6085 - val_accuracy: 0.8639\n",
      "Epoch 8/50\n",
      "45/45 [==============================] - 0s 2ms/step - loss: 0.5741 - accuracy: 0.8727 - val_loss: 0.5234 - val_accuracy: 0.8556\n",
      "Epoch 9/50\n",
      "45/45 [==============================] - 0s 2ms/step - loss: 0.5080 - accuracy: 0.8824 - val_loss: 0.4627 - val_accuracy: 0.8833\n",
      "Epoch 10/50\n",
      "45/45 [==============================] - 0s 2ms/step - loss: 0.4537 - accuracy: 0.8887 - val_loss: 0.4377 - val_accuracy: 0.8778\n",
      "Epoch 11/50\n",
      "45/45 [==============================] - 0s 2ms/step - loss: 0.4148 - accuracy: 0.8914 - val_loss: 0.3949 - val_accuracy: 0.8806\n",
      "Epoch 12/50\n",
      "45/45 [==============================] - 0s 2ms/step - loss: 0.3821 - accuracy: 0.8963 - val_loss: 0.3488 - val_accuracy: 0.8944\n",
      "Epoch 13/50\n",
      "45/45 [==============================] - 0s 2ms/step - loss: 0.3475 - accuracy: 0.9130 - val_loss: 0.3285 - val_accuracy: 0.9028\n",
      "Epoch 14/50\n",
      "45/45 [==============================] - 0s 2ms/step - loss: 0.3225 - accuracy: 0.9116 - val_loss: 0.3126 - val_accuracy: 0.8917\n",
      "Epoch 15/50\n",
      "45/45 [==============================] - 0s 2ms/step - loss: 0.3076 - accuracy: 0.9144 - val_loss: 0.2916 - val_accuracy: 0.9250\n",
      "Epoch 16/50\n",
      "45/45 [==============================] - 0s 2ms/step - loss: 0.2856 - accuracy: 0.9255 - val_loss: 0.2673 - val_accuracy: 0.9278\n",
      "Epoch 17/50\n",
      "45/45 [==============================] - 0s 2ms/step - loss: 0.2719 - accuracy: 0.9262 - val_loss: 0.2612 - val_accuracy: 0.9250\n",
      "Epoch 18/50\n",
      "45/45 [==============================] - 0s 2ms/step - loss: 0.2527 - accuracy: 0.9332 - val_loss: 0.2473 - val_accuracy: 0.9278\n",
      "Epoch 19/50\n",
      "45/45 [==============================] - 0s 2ms/step - loss: 0.2423 - accuracy: 0.9360 - val_loss: 0.2317 - val_accuracy: 0.9389\n",
      "Epoch 20/50\n",
      "45/45 [==============================] - 0s 2ms/step - loss: 0.2263 - accuracy: 0.9408 - val_loss: 0.2161 - val_accuracy: 0.9528\n",
      "Epoch 21/50\n",
      "45/45 [==============================] - 0s 1ms/step - loss: 0.2165 - accuracy: 0.9408 - val_loss: 0.2307 - val_accuracy: 0.9306\n",
      "Epoch 22/50\n",
      "45/45 [==============================] - 0s 2ms/step - loss: 0.2065 - accuracy: 0.9471 - val_loss: 0.2089 - val_accuracy: 0.9361\n",
      "Epoch 23/50\n",
      "45/45 [==============================] - 0s 2ms/step - loss: 0.1982 - accuracy: 0.9471 - val_loss: 0.1893 - val_accuracy: 0.9528\n",
      "Epoch 24/50\n",
      "45/45 [==============================] - 0s 2ms/step - loss: 0.1925 - accuracy: 0.9478 - val_loss: 0.1901 - val_accuracy: 0.9528\n",
      "Epoch 25/50\n",
      "45/45 [==============================] - 0s 2ms/step - loss: 0.1779 - accuracy: 0.9555 - val_loss: 0.1764 - val_accuracy: 0.9611\n",
      "Epoch 26/50\n",
      "45/45 [==============================] - 0s 2ms/step - loss: 0.1718 - accuracy: 0.9582 - val_loss: 0.1810 - val_accuracy: 0.9444\n",
      "Epoch 27/50\n",
      "45/45 [==============================] - 0s 2ms/step - loss: 0.1652 - accuracy: 0.9541 - val_loss: 0.1594 - val_accuracy: 0.9694\n",
      "Epoch 28/50\n",
      "45/45 [==============================] - 0s 2ms/step - loss: 0.1579 - accuracy: 0.9631 - val_loss: 0.1697 - val_accuracy: 0.9667\n",
      "Epoch 29/50\n",
      "45/45 [==============================] - 0s 2ms/step - loss: 0.1518 - accuracy: 0.9589 - val_loss: 0.1626 - val_accuracy: 0.9500\n",
      "Epoch 30/50\n",
      "45/45 [==============================] - 0s 2ms/step - loss: 0.1468 - accuracy: 0.9638 - val_loss: 0.1462 - val_accuracy: 0.9778\n",
      "Epoch 31/50\n",
      "45/45 [==============================] - 0s 1ms/step - loss: 0.1432 - accuracy: 0.9610 - val_loss: 0.1492 - val_accuracy: 0.9611\n",
      "Epoch 32/50\n",
      "45/45 [==============================] - 0s 2ms/step - loss: 0.1407 - accuracy: 0.9582 - val_loss: 0.1386 - val_accuracy: 0.9667\n",
      "Epoch 33/50\n",
      "45/45 [==============================] - 0s 2ms/step - loss: 0.1319 - accuracy: 0.9638 - val_loss: 0.1465 - val_accuracy: 0.9667\n",
      "Epoch 34/50\n",
      "45/45 [==============================] - 0s 2ms/step - loss: 0.1262 - accuracy: 0.9666 - val_loss: 0.1328 - val_accuracy: 0.9722\n",
      "Epoch 35/50\n",
      "45/45 [==============================] - 0s 1ms/step - loss: 0.1250 - accuracy: 0.9687 - val_loss: 0.1329 - val_accuracy: 0.9694\n",
      "Epoch 36/50\n",
      "45/45 [==============================] - 0s 2ms/step - loss: 0.1186 - accuracy: 0.9680 - val_loss: 0.1351 - val_accuracy: 0.9639\n",
      "Epoch 37/50\n",
      "45/45 [==============================] - 0s 1ms/step - loss: 0.1151 - accuracy: 0.9645 - val_loss: 0.1333 - val_accuracy: 0.9694\n",
      "Epoch 38/50\n",
      "45/45 [==============================] - 0s 2ms/step - loss: 0.1103 - accuracy: 0.9701 - val_loss: 0.1285 - val_accuracy: 0.9667\n",
      "Epoch 39/50\n",
      "45/45 [==============================] - 0s 2ms/step - loss: 0.1072 - accuracy: 0.9687 - val_loss: 0.1214 - val_accuracy: 0.9722\n",
      "Epoch 40/50\n",
      "45/45 [==============================] - 0s 2ms/step - loss: 0.1034 - accuracy: 0.9694 - val_loss: 0.1230 - val_accuracy: 0.9722\n",
      "Epoch 41/50\n",
      "45/45 [==============================] - 0s 2ms/step - loss: 0.1021 - accuracy: 0.9749 - val_loss: 0.1109 - val_accuracy: 0.9778\n",
      "Epoch 42/50\n",
      "45/45 [==============================] - 0s 1ms/step - loss: 0.0977 - accuracy: 0.9736 - val_loss: 0.1174 - val_accuracy: 0.9694\n",
      "Epoch 43/50\n",
      "45/45 [==============================] - 0s 2ms/step - loss: 0.0981 - accuracy: 0.9736 - val_loss: 0.1067 - val_accuracy: 0.9778\n",
      "Epoch 44/50\n",
      "45/45 [==============================] - 0s 1ms/step - loss: 0.0904 - accuracy: 0.9722 - val_loss: 0.1107 - val_accuracy: 0.9722\n",
      "Epoch 45/50\n",
      "45/45 [==============================] - 0s 2ms/step - loss: 0.0901 - accuracy: 0.9743 - val_loss: 0.1041 - val_accuracy: 0.9750\n",
      "Epoch 46/50\n",
      "45/45 [==============================] - 0s 2ms/step - loss: 0.0852 - accuracy: 0.9756 - val_loss: 0.1063 - val_accuracy: 0.9750\n",
      "Epoch 47/50\n",
      "45/45 [==============================] - 0s 1ms/step - loss: 0.0866 - accuracy: 0.9749 - val_loss: 0.1105 - val_accuracy: 0.9750\n",
      "Epoch 48/50\n",
      "45/45 [==============================] - 0s 1ms/step - loss: 0.0838 - accuracy: 0.9791 - val_loss: 0.1094 - val_accuracy: 0.9722\n",
      "Epoch 49/50\n",
      "45/45 [==============================] - 0s 2ms/step - loss: 0.0809 - accuracy: 0.9770 - val_loss: 0.1067 - val_accuracy: 0.9667\n",
      "Epoch 50/50\n",
      "45/45 [==============================] - 0s 2ms/step - loss: 0.0853 - accuracy: 0.9736 - val_loss: 0.1021 - val_accuracy: 0.9750\n"
     ]
    }
   ],
   "source": [
    "# Train the model\n",
    "history = model.fit(\n",
    "    X_train,\n",
    "    y_train,\n",
    "    epochs=50,\n",
    "    batch_size=32,\n",
    "    validation_data=(X_test, y_test),\n",
    "    callbacks=[early_stopping, model_checkpoint],\n",
    ")"
   ]
  },
  {
   "cell_type": "code",
   "execution_count": 9,
   "metadata": {},
   "outputs": [
    {
     "name": "stdout",
     "output_type": "stream",
     "text": [
      "12/12 [==============================] - 0s 727us/step\n"
     ]
    },
    {
     "data": {
      "text/plain": [
       "array([[42,  0,  0,  0,  1,  0,  0,  0,  0,  0],\n",
       "       [ 0, 34,  0,  0,  0,  0,  1,  0,  0,  0],\n",
       "       [ 0,  0, 36,  0,  0,  0,  0,  0,  0,  0],\n",
       "       [ 0,  0,  0, 40,  0,  0,  0,  0,  1,  0],\n",
       "       [ 1,  0,  0,  0, 37,  0,  0,  0,  0,  0],\n",
       "       [ 0,  0,  0,  1,  0, 29,  0,  0,  0,  0],\n",
       "       [ 0,  0,  0,  0,  0,  0, 37,  0,  0,  0],\n",
       "       [ 0,  0,  0,  1,  0,  0,  0, 35,  0,  1],\n",
       "       [ 0,  0,  0,  0,  0,  0,  0,  0, 29,  0],\n",
       "       [ 1,  0,  0,  0,  0,  1,  0,  0,  0, 32]], dtype=int64)"
      ]
     },
     "execution_count": 9,
     "metadata": {},
     "output_type": "execute_result"
    }
   ],
   "source": [
    "# Create a confusion matrix\n",
    "from sklearn.metrics import confusion_matrix\n",
    "\n",
    "y_pred = model.predict(X_test)\n",
    "y_pred = np.argmax(y_pred, axis=1)\n",
    "y_test_confusion = np.argmax(y_test, axis=1)\n",
    "confusion_matrix(y_test_confusion, y_pred)"
   ]
  },
  {
   "cell_type": "code",
   "execution_count": 10,
   "metadata": {},
   "outputs": [
    {
     "data": {
      "image/png": "[encoded data removed]",
      "text/plain": [
       "<Figure size 640x480 with 1 Axes>"
      ]
     },
     "metadata": {},
     "output_type": "display_data"
    }
   ],
   "source": [
    "# Plot the training and validation loss\n",
    "plt.plot(history.history[\"loss\"])\n",
    "plt.plot(history.history[\"val_loss\"])\n",
    "plt.title(\"Model Loss\")\n",
    "plt.ylabel(\"Loss\")\n",
    "plt.xlabel(\"Epoch\")\n",
    "plt.legend([\"Train\", \"Validation\"], loc=\"upper right\")\n",
    "plt.show()"
   ]
  },
  {
   "cell_type": "code",
   "execution_count": 11,
   "metadata": {},
   "outputs": [
    {
     "data": {
      "image/png": "[encoded data removed]",
      "text/plain": [
       "<Figure size 640x480 with 1 Axes>"
      ]
     },
     "metadata": {},
     "output_type": "display_data"
    }
   ],
   "source": [
    "# Plot the training and validation accuracy\n",
    "plt.plot(history.history[\"accuracy\"])\n",
    "plt.plot(history.history[\"val_accuracy\"])\n",
    "plt.title(\"Model Accuracy\")\n",
    "plt.ylabel(\"Accuracy\")\n",
    "plt.xlabel(\"Epoch\")\n",
    "plt.legend([\"Train\", \"Validation\"], loc=\"lower right\")\n",
    "plt.show()"
   ]
  },
  {
   "cell_type": "code",
   "execution_count": 12,
   "metadata": {},
   "outputs": [],
   "source": [
    "# Loading wieghts that gave best validation accuracy\n",
    "model.load_weights(\"best_model.h5\")"
   ]
  },
  {
   "cell_type": "code",
   "execution_count": 13,
   "metadata": {},
   "outputs": [
    {
     "name": "stdout",
     "output_type": "stream",
     "text": [
      " 1/12 [=>............................] - ETA: 0s - loss: 0.0323 - accuracy: 1.0000"
     ]
    },
    {
     "name": "stdout",
     "output_type": "stream",
     "text": [
      "12/12 [==============================] - 0s 909us/step - loss: 0.1021 - accuracy: 0.9750\n",
      "Test loss: 0.10213513672351837\n",
      "Test accuracy: 0.9750000238418579\n"
     ]
    }
   ],
   "source": [
    "# Evaluate the model on the test data\n",
    "test_loss, test_acc = model.evaluate(X_test, y_test)\n",
    "print(\"Test loss:\", test_loss)\n",
    "print(\"Test accuracy:\", test_acc)"
   ]
  }
 ],
 "metadata": {
  "kernelspec": {
   "display_name": "AI053",
   "language": "python",
   "name": "python3"
  },
  "language_info": {
   "codemirror_mode": {
    "name": "ipython",
    "version": 3
   },
   "file_extension": ".py",
   "mimetype": "text/x-python",
   "name": "python",
   "nbconvert_exporter": "python",
   "pygments_lexer": "ipython3",
   "version": "3.9.17"
  },
  "orig_nbformat": 4
 },
 "nbformat": 4,
 "nbformat_minor": 2
}
