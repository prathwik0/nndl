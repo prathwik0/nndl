{
 "cells": [
  {
   "cell_type": "markdown",
   "id": "fc32da42",
   "metadata": {},
   "source": [
    "# Keras Hyperparameter Tuning"
   ]
  },
  {
   "cell_type": "code",
   "execution_count": 1,
   "id": "f32e4e07",
   "metadata": {},
   "outputs": [],
   "source": [
    "import pandas as pd\n",
    "from tensorflow import keras\n",
    "from keras import layers\n",
    "from keras import optimizers\n",
    "from keras_tuner import RandomSearch"
   ]
  },
  {
   "cell_type": "code",
   "execution_count": 2,
   "id": "3cd71100",
   "metadata": {},
   "outputs": [
    {
     "data": {
      "text/html": [
       "<div>\n",
       "<style scoped>\n",
       "    .dataframe tbody tr th:only-of-type {\n",
       "        vertical-align: middle;\n",
       "    }\n",
       "\n",
       "    .dataframe tbody tr th {\n",
       "        vertical-align: top;\n",
       "    }\n",
       "\n",
       "    .dataframe thead th {\n",
       "        text-align: right;\n",
       "    }\n",
       "</style>\n",
       "<table border=\"1\" class=\"dataframe\">\n",
       "  <thead>\n",
       "    <tr style=\"text-align: right;\">\n",
       "      <th></th>\n",
       "      <th>T</th>\n",
       "      <th>TM</th>\n",
       "      <th>Tm</th>\n",
       "      <th>SLP</th>\n",
       "      <th>H</th>\n",
       "      <th>VV</th>\n",
       "      <th>V</th>\n",
       "      <th>VM</th>\n",
       "      <th>PM 2.5</th>\n",
       "    </tr>\n",
       "  </thead>\n",
       "  <tbody>\n",
       "    <tr>\n",
       "      <th>0</th>\n",
       "      <td>7.4</td>\n",
       "      <td>9.8</td>\n",
       "      <td>4.8</td>\n",
       "      <td>1017.6</td>\n",
       "      <td>93.0</td>\n",
       "      <td>0.5</td>\n",
       "      <td>4.3</td>\n",
       "      <td>9.4</td>\n",
       "      <td>219.720833</td>\n",
       "    </tr>\n",
       "    <tr>\n",
       "      <th>1</th>\n",
       "      <td>7.8</td>\n",
       "      <td>12.7</td>\n",
       "      <td>4.4</td>\n",
       "      <td>1018.5</td>\n",
       "      <td>87.0</td>\n",
       "      <td>0.6</td>\n",
       "      <td>4.4</td>\n",
       "      <td>11.1</td>\n",
       "      <td>182.187500</td>\n",
       "    </tr>\n",
       "    <tr>\n",
       "      <th>2</th>\n",
       "      <td>6.7</td>\n",
       "      <td>13.4</td>\n",
       "      <td>2.4</td>\n",
       "      <td>1019.4</td>\n",
       "      <td>82.0</td>\n",
       "      <td>0.6</td>\n",
       "      <td>4.8</td>\n",
       "      <td>11.1</td>\n",
       "      <td>154.037500</td>\n",
       "    </tr>\n",
       "    <tr>\n",
       "      <th>3</th>\n",
       "      <td>8.6</td>\n",
       "      <td>15.5</td>\n",
       "      <td>3.3</td>\n",
       "      <td>1018.7</td>\n",
       "      <td>72.0</td>\n",
       "      <td>0.8</td>\n",
       "      <td>8.1</td>\n",
       "      <td>20.6</td>\n",
       "      <td>223.208333</td>\n",
       "    </tr>\n",
       "    <tr>\n",
       "      <th>4</th>\n",
       "      <td>12.4</td>\n",
       "      <td>20.9</td>\n",
       "      <td>4.4</td>\n",
       "      <td>1017.3</td>\n",
       "      <td>61.0</td>\n",
       "      <td>1.3</td>\n",
       "      <td>8.7</td>\n",
       "      <td>22.2</td>\n",
       "      <td>200.645833</td>\n",
       "    </tr>\n",
       "    <tr>\n",
       "      <th>...</th>\n",
       "      <td>...</td>\n",
       "      <td>...</td>\n",
       "      <td>...</td>\n",
       "      <td>...</td>\n",
       "      <td>...</td>\n",
       "      <td>...</td>\n",
       "      <td>...</td>\n",
       "      <td>...</td>\n",
       "      <td>...</td>\n",
       "    </tr>\n",
       "    <tr>\n",
       "      <th>1088</th>\n",
       "      <td>18.1</td>\n",
       "      <td>24.0</td>\n",
       "      <td>11.2</td>\n",
       "      <td>1015.4</td>\n",
       "      <td>56.0</td>\n",
       "      <td>1.8</td>\n",
       "      <td>15.9</td>\n",
       "      <td>25.9</td>\n",
       "      <td>288.416667</td>\n",
       "    </tr>\n",
       "    <tr>\n",
       "      <th>1089</th>\n",
       "      <td>17.8</td>\n",
       "      <td>25.0</td>\n",
       "      <td>10.7</td>\n",
       "      <td>1015.8</td>\n",
       "      <td>54.0</td>\n",
       "      <td>2.3</td>\n",
       "      <td>9.4</td>\n",
       "      <td>22.2</td>\n",
       "      <td>256.833333</td>\n",
       "    </tr>\n",
       "    <tr>\n",
       "      <th>1090</th>\n",
       "      <td>13.9</td>\n",
       "      <td>24.5</td>\n",
       "      <td>11.4</td>\n",
       "      <td>1015.0</td>\n",
       "      <td>95.0</td>\n",
       "      <td>0.6</td>\n",
       "      <td>8.7</td>\n",
       "      <td>14.8</td>\n",
       "      <td>169.000000</td>\n",
       "    </tr>\n",
       "    <tr>\n",
       "      <th>1091</th>\n",
       "      <td>16.3</td>\n",
       "      <td>23.0</td>\n",
       "      <td>9.8</td>\n",
       "      <td>1016.9</td>\n",
       "      <td>78.0</td>\n",
       "      <td>1.1</td>\n",
       "      <td>7.4</td>\n",
       "      <td>16.5</td>\n",
       "      <td>186.041667</td>\n",
       "    </tr>\n",
       "    <tr>\n",
       "      <th>1092</th>\n",
       "      <td>16.3</td>\n",
       "      <td>23.4</td>\n",
       "      <td>9.0</td>\n",
       "      <td>1017.3</td>\n",
       "      <td>68.0</td>\n",
       "      <td>1.3</td>\n",
       "      <td>7.8</td>\n",
       "      <td>18.3</td>\n",
       "      <td>185.583333</td>\n",
       "    </tr>\n",
       "  </tbody>\n",
       "</table>\n",
       "<p>1093 rows × 9 columns</p>\n",
       "</div>"
      ],
      "text/plain": [
       "         T    TM    Tm     SLP     H   VV     V    VM      PM 2.5\n",
       "0      7.4   9.8   4.8  1017.6  93.0  0.5   4.3   9.4  219.720833\n",
       "1      7.8  12.7   4.4  1018.5  87.0  0.6   4.4  11.1  182.187500\n",
       "2      6.7  13.4   2.4  1019.4  82.0  0.6   4.8  11.1  154.037500\n",
       "3      8.6  15.5   3.3  1018.7  72.0  0.8   8.1  20.6  223.208333\n",
       "4     12.4  20.9   4.4  1017.3  61.0  1.3   8.7  22.2  200.645833\n",
       "...    ...   ...   ...     ...   ...  ...   ...   ...         ...\n",
       "1088  18.1  24.0  11.2  1015.4  56.0  1.8  15.9  25.9  288.416667\n",
       "1089  17.8  25.0  10.7  1015.8  54.0  2.3   9.4  22.2  256.833333\n",
       "1090  13.9  24.5  11.4  1015.0  95.0  0.6   8.7  14.8  169.000000\n",
       "1091  16.3  23.0   9.8  1016.9  78.0  1.1   7.4  16.5  186.041667\n",
       "1092  16.3  23.4   9.0  1017.3  68.0  1.3   7.8  18.3  185.583333\n",
       "\n",
       "[1093 rows x 9 columns]"
      ]
     },
     "execution_count": 2,
     "metadata": {},
     "output_type": "execute_result"
    }
   ],
   "source": [
    "df = pd.read_csv(\"./datasets/Real_Combine.csv\")\n",
    "df"
   ]
  },
  {
   "cell_type": "code",
   "execution_count": 3,
   "id": "3082def9",
   "metadata": {},
   "outputs": [
    {
     "data": {
      "text/plain": [
       "T         0\n",
       "TM        0\n",
       "Tm        0\n",
       "SLP       0\n",
       "H         0\n",
       "VV        0\n",
       "V         0\n",
       "VM        0\n",
       "PM 2.5    0\n",
       "dtype: int64"
      ]
     },
     "execution_count": 3,
     "metadata": {},
     "output_type": "execute_result"
    }
   ],
   "source": [
    "df = df.dropna()\n",
    "df.isnull().sum()"
   ]
  },
  {
   "cell_type": "code",
   "execution_count": 4,
   "id": "49696568",
   "metadata": {},
   "outputs": [],
   "source": [
    "# creation of feature set and target set\n",
    "X = df.iloc[:, :-1]\n",
    "y = df.iloc[:, -1]"
   ]
  },
  {
   "cell_type": "markdown",
   "id": "8196f290",
   "metadata": {},
   "source": [
    "Hyperparameters\n",
    "\n",
    "- How many number of hidden layers we should have?\n",
    "- How many number of neurons we should have in hidden layers?\n",
    "- Learning Rate"
   ]
  },
  {
   "cell_type": "code",
   "execution_count": 5,
   "id": "5806ed1a",
   "metadata": {},
   "outputs": [],
   "source": [
    "def hyper_tune(param):\n",
    "    model = keras.Sequential()\n",
    "    for i in range(param.Int(\"num_layers\", 2, 20)):\n",
    "        model.add(\n",
    "            layers.Dense(\n",
    "                units=param.Int(\n",
    "                    \"units_\" + str(i), min_value=32, max_value=512, step=32\n",
    "                ),\n",
    "                activation=\"tanh\",\n",
    "            )\n",
    "        )\n",
    "    model.add(layers.Dense(1, activation=\"linear\"))\n",
    "    model.compile(\n",
    "        optimizer=keras.optimizers.Adam(\n",
    "            param.Choice(\"learning_rate\", [1e-2, 1e-3, 1e-4])\n",
    "        ),\n",
    "        loss=\"mean_absolute_error\",\n",
    "        metrics=[\"mean_absolute_error\"],\n",
    "    )\n",
    "    return model"
   ]
  },
  {
   "cell_type": "code",
   "execution_count": 6,
   "id": "6200f784",
   "metadata": {},
   "outputs": [],
   "source": [
    "tuner = RandomSearch(\n",
    "    hyper_tune,\n",
    "    objective=\"val_mean_absolute_error\",\n",
    "    max_trials=5,\n",
    "    executions_per_trial=3,\n",
    "    directory=\"project\",\n",
    "    overwrite=True,\n",
    "    project_name=\"Air Quality Index AQI\",\n",
    ")"
   ]
  },
  {
   "cell_type": "code",
   "execution_count": 7,
   "id": "fd39ed11",
   "metadata": {},
   "outputs": [],
   "source": [
    "from sklearn.model_selection import train_test_split\n",
    "\n",
    "X_train, X_test, y_train, y_test = train_test_split(X, y, test_size=0.3, random_state=0)"
   ]
  },
  {
   "cell_type": "code",
   "execution_count": 8,
   "id": "8a07e5f5",
   "metadata": {},
   "outputs": [
    {
     "name": "stdout",
     "output_type": "stream",
     "text": [
      "Trial 5 Complete [00h 00m 06s]\n",
      "val_mean_absolute_error: 94.02474721272786\n",
      "\n",
      "Best val_mean_absolute_error So Far: 68.3522237141927\n",
      "Total elapsed time: 00h 00m 35s\n",
      "INFO:tensorflow:Oracle triggered exit\n"
     ]
    }
   ],
   "source": [
    "tuner.search(X_train, y_train, epochs=5, validation_data=(X_test, y_test))"
   ]
  },
  {
   "cell_type": "code",
   "execution_count": 9,
   "id": "15a1a262",
   "metadata": {},
   "outputs": [],
   "source": [
    "# Get the best hyperparameters found during the search\n",
    "best_hps = tuner.get_best_hyperparameters(1)[0]\n",
    "\n",
    "# Build the model with the best hyperparameters\n",
    "model = hyper_tune(best_hps)"
   ]
  },
  {
   "cell_type": "code",
   "execution_count": 10,
   "id": "4c4f662c",
   "metadata": {},
   "outputs": [
    {
     "name": "stdout",
     "output_type": "stream",
     "text": [
      "Epoch 1/5\n",
      "24/24 [==============================] - 2s 11ms/step - loss: 98.7632 - mean_absolute_error: 98.7632 - val_loss: 82.1889 - val_mean_absolute_error: 82.1889\n",
      "Epoch 2/5\n",
      "24/24 [==============================] - 0s 7ms/step - loss: 86.3785 - mean_absolute_error: 86.3785 - val_loss: 76.1918 - val_mean_absolute_error: 76.1918\n",
      "Epoch 3/5\n",
      "24/24 [==============================] - 0s 6ms/step - loss: 80.9792 - mean_absolute_error: 80.9792 - val_loss: 72.5645 - val_mean_absolute_error: 72.5645\n",
      "Epoch 4/5\n",
      "24/24 [==============================] - 0s 6ms/step - loss: 77.1317 - mean_absolute_error: 77.1317 - val_loss: 70.1214 - val_mean_absolute_error: 70.1214\n",
      "Epoch 5/5\n",
      "24/24 [==============================] - 0s 6ms/step - loss: 74.2679 - mean_absolute_error: 74.2679 - val_loss: 68.4306 - val_mean_absolute_error: 68.4306\n"
     ]
    }
   ],
   "source": [
    "# Train the model with the best hyperparameters on the full training set\n",
    "history = model.fit(X_train, y_train, epochs=5, validation_data=(X_test, y_test))"
   ]
  },
  {
   "cell_type": "code",
   "execution_count": 11,
   "id": "e319a70d",
   "metadata": {},
   "outputs": [
    {
     "data": {
      "image/png": "[encoded data removed]",
      "text/plain": [
       "<Figure size 640x480 with 1 Axes>"
      ]
     },
     "metadata": {},
     "output_type": "display_data"
    }
   ],
   "source": [
    "import matplotlib.pyplot as plt\n",
    "\n",
    "# Plot the training and validation metrics for each epoch\n",
    "plt.plot(history.history[\"mean_absolute_error\"], label=\"training\")\n",
    "plt.plot(history.history[\"val_mean_absolute_error\"], label=\"validation\")\n",
    "plt.title(\"Model performance during training\")\n",
    "plt.xlabel(\"Epoch\")\n",
    "plt.ylabel(\"Mean absolute error\")\n",
    "plt.legend()\n",
    "plt.show()"
   ]
  }
 ],
 "metadata": {
  "kernelspec": {
   "display_name": "Python 3 (ipykernel)",
   "language": "python",
   "name": "python3"
  },
  "language_info": {
   "codemirror_mode": {
    "name": "ipython",
    "version": 3
   },
   "file_extension": ".py",
   "mimetype": "text/x-python",
   "name": "python",
   "nbconvert_exporter": "python",
   "pygments_lexer": "ipython3",
   "version": "3.9.17"
  }
 },
 "nbformat": 4,
 "nbformat_minor": 5
}
